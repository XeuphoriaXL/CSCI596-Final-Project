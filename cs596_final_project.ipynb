{
 "nbformat": 4,
 "nbformat_minor": 0,
 "metadata": {
  "colab": {
   "provenance": []
  },
  "kernelspec": {
   "name": "python3",
   "display_name": "Python 3"
  },
  "language_info": {
   "name": "python"
  }
 },
 "cells": [
  {
   "metadata": {},
   "cell_type": "markdown",
   "source": "First, Select GPU in the runtime session."
  },
  {
   "metadata": {},
   "cell_type": "markdown",
   "source": "Change environment:"
  },
  {
   "cell_type": "code",
   "execution_count": null,
   "metadata": {
    "id": "HTK-qbKMUBmE"
   },
   "outputs": [],
   "source": "!sed -i 's/np.complex/np.complex128/g' /usr/local/lib/python3.10/dist-packages/librosa/core/constantq.py"
  },
  {
   "metadata": {},
   "cell_type": "code",
   "outputs": [],
   "execution_count": null,
   "source": "!sed -i 's/np.float/np.float64/g' /usr/local/lib/python3.10/dist-packages/librosa/util/utils.py"
  },
  {
   "metadata": {},
   "cell_type": "markdown",
   "source": "import necessary requirements:"
  },
  {
   "metadata": {},
   "cell_type": "code",
   "outputs": [],
   "execution_count": null,
   "source": [
    "%pip install --upgrade pip\n",
    "%pip uninstall -y tensorflow numba\n",
    "%pip install matplotlib\\\n",
    "numpy==1.19.3 \\\n",
    "inflect==0.2.5 \\\n",
    "librosa==0.6.0 \\\n",
    "Unidecode==1.0.22 \\\n",
    "pillow\n",
    "%pip install janome==0.4.2\n",
    "# %pip install scipy==1.0.0\n",
    "%pip install denoiser==0.1.0\n",
    "%pip install librosa==0.8.0\n",
    "%pip install numba\n",
    "%pip install pysoundfile==0.9.0.post1\n",
    "%pip install unidecode==1.3.4\n",
    "%pip install pyopenjtalk==0.2.0\n",
    "%pip install inflect==5.6.2\n",
    "%pip install janome==0.4.2"
   ]
  },
  {
   "metadata": {},
   "cell_type": "markdown",
   "source": "Clone repo from github:"
  },
  {
   "metadata": {},
   "cell_type": "code",
   "outputs": [],
   "execution_count": null,
   "source": [
    "!git clone https://github.com/XeuphoriaXL/CSCI596-Final-Project.git\n",
    "!cp -r /content/CSCI596-Final-Project/* /content"
   ]
  },
  {
   "metadata": {},
   "cell_type": "markdown",
   "source": "Clone trained model:"
  },
  {
   "metadata": {},
   "cell_type": "code",
   "outputs": [],
   "execution_count": null,
   "source": [
    "from google.colab import drive\n",
    "drive.mount('/content/gdrive')\n",
    "!cp -r /content/gdrive/MyDrive/tacotron2-japanese/* /content"
   ]
  },
  {
   "metadata": {},
   "cell_type": "code",
   "outputs": [],
   "execution_count": null,
   "source": "!pip install pyopenjtalk"
  },
  {
   "metadata": {},
   "cell_type": "code",
   "outputs": [],
   "execution_count": null,
   "source": [
    "import matplotlib\n",
    "%matplotlib inline\n",
    "import matplotlib.pylab as plt\n",
    "import IPython.display as ipd\n",
    "import sys\n",
    "sys.path.append('waveglow/')\n",
    "import numpy as np\n",
    "import torch\n",
    "import time\n",
    "import tracemalloc\n",
    "from torch.profiler import profile, record_function, ProfilerActivity"
   ]
  },
  {
   "metadata": {},
   "cell_type": "code",
   "outputs": [],
   "execution_count": null,
   "source": [
    "from hparams import create_hparams\n",
    "from model import Tacotron2\n",
    "from layers import TacotronSTFT, STFT\n",
    "from audio_processing import griffin_lim\n",
    "from train import load_model\n",
    "from text import text_to_sequence\n",
    "from waveglow.denoiser import Denoiser"
   ]
  },
  {
   "metadata": {},
   "cell_type": "code",
   "outputs": [],
   "execution_count": null,
   "source": "!sed -i 's/np.complex/np.complex128/g' /usr/local/lib/python3.10/dist-packages/librosa/core/constantq.py"
  },
  {
   "metadata": {},
   "cell_type": "code",
   "outputs": [],
   "execution_count": null,
   "source": [
    "def plot_data(data, figsize=(16, 4)):\n",
    "    fig, axes = plt.subplots(1, len(data), figsize=figsize)\n",
    "    for i in range(len(data)):\n",
    "        axes[i].imshow(data[i], aspect='auto', origin='lower',\n",
    "                       interpolation='none')"
   ]
  },
  {
   "metadata": {},
   "cell_type": "code",
   "outputs": [],
   "execution_count": null,
   "source": [
    "def measure_time_and_memory(func, *args, **kwargs):\n",
    "    \"\"\"\n",
    "    Utility function to measure time and memory usage for a function.\n",
    "    \"\"\"\n",
    "    tracemalloc.start()\n",
    "    start_time = time.time()\n",
    "    result = func(*args, **kwargs)\n",
    "    end_time = time.time()\n",
    "    current, peak = tracemalloc.get_traced_memory()\n",
    "    tracemalloc.stop()\n",
    "    print(f\"Execution time: {end_time - start_time:.2f}s\")\n",
    "    print(f\"Current memory usage: {current / 10 ** 6:.2f}MB; Peak: {peak / 10 ** 6:.2f}MB\")\n",
    "    return result"
   ]
  },
  {
   "metadata": {},
   "cell_type": "code",
   "outputs": [],
   "execution_count": null,
   "source": [
    "hparams = create_hparams()\n",
    "hparams.sampling_rate = 22050"
   ]
  },
  {
   "metadata": {},
   "cell_type": "code",
   "outputs": [],
   "execution_count": null,
   "source": [
    "checkpoint_path = \"ayachi_nene_2\"\n",
    "model = load_model(hparams)\n",
    "model.load_state_dict(torch.load(checkpoint_path)['state_dict'])\n",
    "_ = model.cuda().eval()#.half()"
   ]
  },
  {
   "metadata": {},
   "cell_type": "code",
   "outputs": [],
   "execution_count": null,
   "source": [
    "waveglow_path = 'waveglow_256channels_universal_v5.pt'\n",
    "waveglow = torch.load(waveglow_path)['model']\n",
    "waveglow.cuda().eval()#.half()\n",
    "for k in waveglow.convinv:\n",
    "    k.float()\n",
    "denoiser = Denoiser(waveglow)"
   ]
  },
  {
   "metadata": {},
   "cell_type": "code",
   "outputs": [],
   "execution_count": null,
   "source": [
    "text = \"こんにちは。あやちねねです。どうぞよろしくお願いいたします。\"\n",
    "sequence = np.array(text_to_sequence(text, ['japanese_cleaners']))[None, :]\n",
    "sequence = torch.autograd.Variable(\n",
    "    torch.from_numpy(sequence)).cuda().long()"
   ]
  },
  {
   "metadata": {},
   "cell_type": "code",
   "outputs": [],
   "execution_count": null,
   "source": [
    "# Measure performance of model inference\n",
    "mel_outputs, mel_outputs_postnet, _, alignments = measure_time_and_memory(\n",
    "    model.inference, sequence\n",
    ")\n",
    "plot_data((mel_outputs.float().data.cpu().numpy()[0],\n",
    "           mel_outputs_postnet.float().data.cpu().numpy()[0],\n",
    "           alignments.float().data.cpu().numpy()[0].T))"
   ]
  },
  {
   "metadata": {},
   "cell_type": "code",
   "outputs": [],
   "execution_count": null,
   "source": [
    "# Measure performance of WaveGlow audio generation\n",
    "with torch.no_grad():\n",
    "    audio = measure_time_and_memory(waveglow.infer, mel_outputs_postnet, sigma=0.666)\n",
    "ipd.Audio(audio[0].data.cpu().numpy(), rate=hparams.sampling_rate)"
   ]
  }
 ]
}
