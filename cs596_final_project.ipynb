{
 "nbformat": 4,
 "nbformat_minor": 0,
 "metadata": {
  "colab": {
   "provenance": []
  },
  "kernelspec": {
   "name": "python3",
   "display_name": "Python 3"
  },
  "language_info": {
   "name": "python"
  }
 },
 "cells": [
  {
   "metadata": {},
   "cell_type": "markdown",
   "source": "First, Select GPU in the runtime session."
  },
  {
   "cell_type": "code",
   "execution_count": null,
   "metadata": {
    "id": "HTK-qbKMUBmE"
   },
   "outputs": [],
   "source": "!sed -i 's/np.complex/np.complex128/g' /usr/local/lib/python3.10/dist-packages/librosa/core/constantq.py"
  },
  {
   "metadata": {},
   "cell_type": "code",
   "outputs": [],
   "execution_count": null,
   "source": [
    "%pip install --upgrade pip\n",
    "%pip uninstall -y tensorflow numba\n",
    "%pip install matplotlib\\\n",
    "numpy==1.19.3 \\\n",
    "inflect==0.2.5 \\\n",
    "librosa==0.6.0 \\\n",
    "Unidecode==1.0.22 \\\n",
    "pillow\n",
    "%pip install janome==0.4.2\n",
    "# %pip install scipy==1.0.0\n",
    "%pip install denoiser==0.1.0\n",
    "%pip install librosa==0.8.0\n",
    "%pip install numba\n",
    "%pip install pysoundfile==0.9.0.post1\n",
    "%pip install unidecode==1.3.4\n",
    "%pip install pyopenjtalk==0.2.0\n",
    "%pip install inflect==5.6.2\n",
    "%pip install janome==0.4.2\n",
    "\n"
   ]
  },
  {
   "metadata": {},
   "cell_type": "code",
   "outputs": [],
   "execution_count": null,
   "source": [
    "!git clone https://github.com/CjangCjengh/tacotron2-japanese.git\n",
    "!cp -r /content/tacotron2-japanese/* /content"
   ]
  },
  {
   "metadata": {},
   "cell_type": "code",
   "outputs": [],
   "execution_count": null,
   "source": [
    "from google.colab import drive\n",
    "drive.mount('/content/gdrive')\n",
    "!cp -r /content/gdrive/MyDrive/tacotron2-japanese/* /content"
   ]
  },
  {
   "metadata": {},
   "cell_type": "code",
   "outputs": [],
   "execution_count": null,
   "source": "!pip install pyopenjtalk"
  },
  {
   "metadata": {},
   "cell_type": "code",
   "outputs": [],
   "execution_count": null,
   "source": [
    "import matplotlib\n",
    "%matplotlib inline\n",
    "import matplotlib.pylab as plt\n",
    "\n",
    "import IPython.display as ipd\n",
    "\n",
    "import sys\n",
    "sys.path.append('waveglow/')\n",
    "import numpy as np\n",
    "import torch\n",
    "\n",
    "from hparams import create_hparams\n",
    "from model import Tacotron2\n",
    "from layers import TacotronSTFT, STFT\n",
    "from audio_processing import griffin_lim\n",
    "from train import load_model\n",
    "from text import text_to_sequence\n",
    "from waveglow.denoiser import Denoiser"
   ]
  },
  {
   "metadata": {},
   "cell_type": "code",
   "outputs": [],
   "execution_count": null,
   "source": [
    "def plot_data(data, figsize=(16, 4)):\n",
    "    fig, axes = plt.subplots(1, len(data), figsize=figsize)\n",
    "    for i in range(len(data)):\n",
    "        axes[i].imshow(data[i], aspect='auto', origin='lower',\n",
    "                       interpolation='none')"
   ]
  },
  {
   "metadata": {},
   "cell_type": "code",
   "outputs": [],
   "execution_count": null,
   "source": [
    "hparams = create_hparams()\n",
    "hparams.sampling_rate = 22050"
   ]
  }
 ]
}
